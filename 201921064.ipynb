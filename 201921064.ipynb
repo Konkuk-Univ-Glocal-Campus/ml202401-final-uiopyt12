{
 "cells": [
  {
   "cell_type": "markdown",
   "metadata": {},
   "source": [
    "\n",
    "# <center>기계학습 기말고사 대체 과제</center>  "
   ]
  },
  {
   "cell_type": "markdown",
   "metadata": {},
   "source": [
    "#### <div style=\"text-align: right\"> 201921064 최요한 </div>"
   ]
  },
  {
   "cell_type": "markdown",
   "metadata": {},
   "source": [
    "\n",
    "<div style=\"text-align: left\"> (커널은 Python 3.10.13을 사용했습니다.) </div>"
   ]
  },
  {
   "cell_type": "code",
   "execution_count": 1,
   "metadata": {
    "metadata": {}
   },
   "outputs": [
    {
     "name": "stdout",
     "output_type": "stream",
     "text": [
      "\u001b[33mWARNING: Ignoring invalid distribution -cikit-learn (/home/codespace/.local/lib/python3.10/site-packages)\u001b[0m\u001b[33m\n",
      "\u001b[0m\u001b[33mWARNING: Ignoring invalid distribution -cikit-learn (/home/codespace/.local/lib/python3.10/site-packages)\u001b[0m\u001b[33m\n",
      "\u001b[0mRequirement already satisfied: pandas==1.5.3 in /usr/local/python/3.10.13/lib/python3.10/site-packages (from -r requirements.txt (line 1)) (1.5.3)\n",
      "Requirement already satisfied: nltk==3.8.1 in /usr/local/python/3.10.13/lib/python3.10/site-packages (from -r requirements.txt (line 2)) (3.8.1)\n",
      "Requirement already satisfied: vaderSentiment==3.3.2 in /usr/local/python/3.10.13/lib/python3.10/site-packages (from -r requirements.txt (line 3)) (3.3.2)\n",
      "Requirement already satisfied: scikit-learn==1.2.2 in /usr/local/python/3.10.13/lib/python3.10/site-packages (from -r requirements.txt (line 4)) (1.2.2)\n",
      "Requirement already satisfied: matplotlib==3.7.1 in /usr/local/python/3.10.13/lib/python3.10/site-packages (from -r requirements.txt (line 5)) (3.7.1)\n",
      "Requirement already satisfied: seaborn==0.12.2 in /usr/local/python/3.10.13/lib/python3.10/site-packages (from -r requirements.txt (line 6)) (0.12.2)\n",
      "Requirement already satisfied: nlpaug==1.1.11 in /usr/local/python/3.10.13/lib/python3.10/site-packages (from -r requirements.txt (line 7)) (1.1.11)\n",
      "Requirement already satisfied: python-dateutil>=2.8.1 in /home/codespace/.local/lib/python3.10/site-packages (from pandas==1.5.3->-r requirements.txt (line 1)) (2.9.0.post0)\n",
      "Requirement already satisfied: pytz>=2020.1 in /home/codespace/.local/lib/python3.10/site-packages (from pandas==1.5.3->-r requirements.txt (line 1)) (2024.1)\n",
      "Requirement already satisfied: numpy>=1.21.0 in /home/codespace/.local/lib/python3.10/site-packages (from pandas==1.5.3->-r requirements.txt (line 1)) (1.26.4)\n",
      "Requirement already satisfied: click in /usr/local/python/3.10.13/lib/python3.10/site-packages (from nltk==3.8.1->-r requirements.txt (line 2)) (8.1.7)\n",
      "Requirement already satisfied: joblib in /home/codespace/.local/lib/python3.10/site-packages (from nltk==3.8.1->-r requirements.txt (line 2)) (1.4.2)\n",
      "Requirement already satisfied: regex>=2021.8.3 in /usr/local/python/3.10.13/lib/python3.10/site-packages (from nltk==3.8.1->-r requirements.txt (line 2)) (2024.5.15)\n",
      "Requirement already satisfied: tqdm in /usr/local/python/3.10.13/lib/python3.10/site-packages (from nltk==3.8.1->-r requirements.txt (line 2)) (4.66.4)\n",
      "Requirement already satisfied: requests in /home/codespace/.local/lib/python3.10/site-packages (from vaderSentiment==3.3.2->-r requirements.txt (line 3)) (2.32.3)\n",
      "Requirement already satisfied: scipy>=1.3.2 in /home/codespace/.local/lib/python3.10/site-packages (from scikit-learn==1.2.2->-r requirements.txt (line 4)) (1.13.1)\n",
      "Requirement already satisfied: threadpoolctl>=2.0.0 in /home/codespace/.local/lib/python3.10/site-packages (from scikit-learn==1.2.2->-r requirements.txt (line 4)) (3.5.0)\n",
      "Requirement already satisfied: contourpy>=1.0.1 in /home/codespace/.local/lib/python3.10/site-packages (from matplotlib==3.7.1->-r requirements.txt (line 5)) (1.2.1)\n",
      "Requirement already satisfied: cycler>=0.10 in /home/codespace/.local/lib/python3.10/site-packages (from matplotlib==3.7.1->-r requirements.txt (line 5)) (0.12.1)\n",
      "Requirement already satisfied: fonttools>=4.22.0 in /home/codespace/.local/lib/python3.10/site-packages (from matplotlib==3.7.1->-r requirements.txt (line 5)) (4.52.4)\n",
      "Requirement already satisfied: kiwisolver>=1.0.1 in /home/codespace/.local/lib/python3.10/site-packages (from matplotlib==3.7.1->-r requirements.txt (line 5)) (1.4.5)\n",
      "Requirement already satisfied: packaging>=20.0 in /home/codespace/.local/lib/python3.10/site-packages (from matplotlib==3.7.1->-r requirements.txt (line 5)) (24.0)\n",
      "Requirement already satisfied: pillow>=6.2.0 in /home/codespace/.local/lib/python3.10/site-packages (from matplotlib==3.7.1->-r requirements.txt (line 5)) (10.3.0)\n",
      "Requirement already satisfied: pyparsing>=2.3.1 in /home/codespace/.local/lib/python3.10/site-packages (from matplotlib==3.7.1->-r requirements.txt (line 5)) (3.1.2)\n",
      "Requirement already satisfied: gdown>=4.0.0 in /usr/local/python/3.10.13/lib/python3.10/site-packages (from nlpaug==1.1.11->-r requirements.txt (line 7)) (5.2.0)\n",
      "Requirement already satisfied: beautifulsoup4 in /home/codespace/.local/lib/python3.10/site-packages (from gdown>=4.0.0->nlpaug==1.1.11->-r requirements.txt (line 7)) (4.12.3)\n",
      "Requirement already satisfied: filelock in /home/codespace/.local/lib/python3.10/site-packages (from gdown>=4.0.0->nlpaug==1.1.11->-r requirements.txt (line 7)) (3.14.0)\n",
      "Requirement already satisfied: six>=1.5 in /home/codespace/.local/lib/python3.10/site-packages (from python-dateutil>=2.8.1->pandas==1.5.3->-r requirements.txt (line 1)) (1.16.0)\n",
      "Requirement already satisfied: charset-normalizer<4,>=2 in /home/codespace/.local/lib/python3.10/site-packages (from requests->vaderSentiment==3.3.2->-r requirements.txt (line 3)) (3.3.2)\n",
      "Requirement already satisfied: idna<4,>=2.5 in /home/codespace/.local/lib/python3.10/site-packages (from requests->vaderSentiment==3.3.2->-r requirements.txt (line 3)) (3.7)\n",
      "Requirement already satisfied: urllib3<3,>=1.21.1 in /usr/local/python/3.10.13/lib/python3.10/site-packages (from requests->vaderSentiment==3.3.2->-r requirements.txt (line 3)) (2.0.7)\n",
      "Requirement already satisfied: certifi>=2017.4.17 in /home/codespace/.local/lib/python3.10/site-packages (from requests->vaderSentiment==3.3.2->-r requirements.txt (line 3)) (2024.2.2)\n",
      "Requirement already satisfied: soupsieve>1.2 in /home/codespace/.local/lib/python3.10/site-packages (from beautifulsoup4->gdown>=4.0.0->nlpaug==1.1.11->-r requirements.txt (line 7)) (2.5)\n",
      "Requirement already satisfied: PySocks!=1.5.7,>=1.5.6 in /usr/local/python/3.10.13/lib/python3.10/site-packages (from requests[socks]->gdown>=4.0.0->nlpaug==1.1.11->-r requirements.txt (line 7)) (1.7.1)\n",
      "\u001b[33mWARNING: Ignoring invalid distribution -cikit-learn (/home/codespace/.local/lib/python3.10/site-packages)\u001b[0m\u001b[33m\n",
      "\u001b[0m\u001b[33mWARNING: Ignoring invalid distribution -cikit-learn (/home/codespace/.local/lib/python3.10/site-packages)\u001b[0m\u001b[33m\n",
      "\u001b[0m\u001b[33mWARNING: Ignoring invalid distribution -cikit-learn (/home/codespace/.local/lib/python3.10/site-packages)\u001b[0m\u001b[33m\n",
      "\u001b[0m\u001b[33mWARNING: Ignoring invalid distribution -cikit-learn (/home/codespace/.local/lib/python3.10/site-packages)\u001b[0m\u001b[33m\n",
      "\u001b[0mNote: you may need to restart the kernel to use updated packages.\n"
     ]
    }
   ],
   "source": [
    "%pip install -r requirements.txt"
   ]
  },
  {
   "cell_type": "code",
   "execution_count": 2,
   "metadata": {
    "metadata": {}
   },
   "outputs": [
    {
     "name": "stderr",
     "output_type": "stream",
     "text": [
      "[nltk_data] Downloading package punkt to /home/codespace/nltk_data...\n",
      "[nltk_data]   Package punkt is already up-to-date!\n",
      "[nltk_data] Downloading package stopwords to\n",
      "[nltk_data]     /home/codespace/nltk_data...\n",
      "[nltk_data]   Package stopwords is already up-to-date!\n",
      "[nltk_data] Downloading package wordnet to\n",
      "[nltk_data]     /home/codespace/nltk_data...\n",
      "[nltk_data]   Package wordnet is already up-to-date!\n"
     ]
    },
    {
     "data": {
      "text/plain": [
       "True"
      ]
     },
     "execution_count": 2,
     "metadata": {},
     "output_type": "execute_result"
    }
   ],
   "source": [
    "import pandas as pd\n",
    "import numpy as np\n",
    "import nltk\n",
    "import re\n",
    "from nltk.corpus import stopwords\n",
    "from nltk.tokenize import word_tokenize\n",
    "from nltk.stem import PorterStemmer, WordNetLemmatizer\n",
    "from vaderSentiment.vaderSentiment import SentimentIntensityAnalyzer\n",
    "import pandas as pd\n",
    "import nltk\n",
    "import re\n",
    "from nltk.corpus import stopwords\n",
    "from nltk.tokenize import word_tokenize\n",
    "from nltk.stem import PorterStemmer, WordNetLemmatizer\n",
    "from vaderSentiment.vaderSentiment import SentimentIntensityAnalyzer\n",
    "from sklearn.model_selection import train_test_split\n",
    "from sklearn.feature_extraction.text import TfidfVectorizer\n",
    "from sklearn.linear_model import LogisticRegression\n",
    "from sklearn.model_selection import GridSearchCV\n",
    "from sklearn.pipeline import Pipeline\n",
    "from sklearn.metrics import accuracy_score, precision_score, recall_score, f1_score, roc_auc_score, confusion_matrix, ConfusionMatrixDisplay, RocCurveDisplay\n",
    "import matplotlib.pyplot as plt\n",
    "import seaborn as sns\n",
    "from sklearn.metrics import classification_report, roc_curve, auc\n",
    "import matplotlib.pyplot as plt\n",
    "\n",
    "\n",
    "nltk.download('punkt')\n",
    "nltk.download('stopwords')\n",
    "nltk.download('wordnet')"
   ]
  },
  {
   "cell_type": "markdown",
   "metadata": {},
   "source": [
    "### 1. **데이터**:  \n",
    "- 제 학번은 201921064로 학번이 짝수로 끝나기 때문에 **wine_review.csv**를 분석하겠습니다.  "
   ]
  },
  {
   "cell_type": "code",
   "execution_count": 3,
   "metadata": {
    "metadata": {}
   },
   "outputs": [
    {
     "name": "stdout",
     "output_type": "stream",
     "text": [
      "<class 'pandas.core.frame.DataFrame'>\n",
      "RangeIndex: 2890 entries, 0 to 2889\n",
      "Data columns (total 32 columns):\n",
      " #   Column                Non-Null Count  Dtype  \n",
      "---  ------                --------------  -----  \n",
      " 0   id                    2890 non-null   object \n",
      " 1   asins                 870 non-null    object \n",
      " 2   brand                 2825 non-null   object \n",
      " 3   categories            2890 non-null   object \n",
      " 4   dateAdded             2890 non-null   object \n",
      " 5   dateUpdated           2890 non-null   object \n",
      " 6   descriptions          2738 non-null   object \n",
      " 7   dimension             1838 non-null   object \n",
      " 8   ean                   2166 non-null   object \n",
      " 9   flavors               151 non-null    object \n",
      " 10  keys                  2890 non-null   object \n",
      " 11  manufacturer          849 non-null    object \n",
      " 12  manufacturerNumber    2457 non-null   object \n",
      " 13  name                  2890 non-null   object \n",
      " 14  reviews.date          2552 non-null   object \n",
      " 15  reviews.dateAdded     2890 non-null   object \n",
      " 16  reviews.dateSeen      2890 non-null   object \n",
      " 17  reviews.didPurchase   2049 non-null   object \n",
      " 18  reviews.doRecommend   1911 non-null   object \n",
      " 19  reviews.id            1885 non-null   float64\n",
      " 20  reviews.numHelpful    626 non-null    float64\n",
      " 21  reviews.rating        2445 non-null   float64\n",
      " 22  reviews.sourceURLs    2890 non-null   object \n",
      " 23  reviews.text          2889 non-null   object \n",
      " 24  reviews.title         2846 non-null   object \n",
      " 25  reviews.userCity      82 non-null     object \n",
      " 26  reviews.userProvince  9 non-null      object \n",
      " 27  reviews.username      2889 non-null   object \n",
      " 28  sizes                 22 non-null     object \n",
      " 29  sourceURLs            2890 non-null   object \n",
      " 30  upc                   2743 non-null   object \n",
      " 31  weight                996 non-null    object \n",
      "dtypes: float64(3), object(29)\n",
      "memory usage: 722.6+ KB\n",
      "None\n"
     ]
    }
   ],
   "source": [
    "# 데이터 로드\n",
    "df = pd.read_csv('wine_review.csv')\n",
    "\n",
    "# 데이터의 기본 정보 출력\n",
    "print(df.info())"
   ]
  },
  {
   "cell_type": "markdown",
   "metadata": {},
   "source": [
    "주어진 데이터에서 사용자의 감정과 관련된 데이터가 나타날 수 있다고 생각한 부분은 5가지 항목으로 다음과 같습니다.  \n",
    "reviews.didPurchase, reviews.numHelpful, reviews.rating, reviews.text, reviews.title"
   ]
  },
  {
   "cell_type": "code",
   "execution_count": 4,
   "metadata": {
    "metadata": {}
   },
   "outputs": [
    {
     "name": "stdout",
     "output_type": "stream",
     "text": [
      "reviews.didPurchase     841\n",
      "reviews.numHelpful     2264\n",
      "reviews.rating          445\n",
      "reviews.text              1\n",
      "reviews.title            44\n",
      "dtype: int64\n",
      "결측값을 제외하고 결제를 한 사람이 분명한 리뷰의 수 :  326\n",
      "도움이 되었다고 평가를 받은 리뷰의 수 :  161\n"
     ]
    }
   ],
   "source": [
    "# 선택한 열들만 포함하는 데이터 프레임 생성\n",
    "selected_columns = ['reviews.didPurchase', 'reviews.numHelpful', 'reviews.rating', 'reviews.text', 'reviews.title']\n",
    "df = df[selected_columns]\n",
    "\n",
    "# 결측값 확인\n",
    "print(df.isnull().sum())\n",
    "\n",
    "#결제를 한 것이 분명한 사람, 즉 reviews.didPurchase가 참인 리뷰의 개수 (결측값에 대해서는 결제를 했는 지 확인할 수 없음)\n",
    "df_filtered1 = df[df['reviews.didPurchase'] == True]\n",
    "print(\"결측값을 제외하고 결제를 한 사람이 분명한 리뷰의 수 : \",len(df_filtered1))\n",
    "\n",
    "#도움이 되었다고 평가를 받은 리뷰, 즉 reviews.numHelpful가 결측값이 아닌 리뷰의 개수\n",
    "df_filtered2 = df[df['reviews.numHelpful'] == True]\n",
    "print(\"도움이 되었다고 평가를 받은 리뷰의 수 : \",len(df_filtered2))"
   ]
  },
  {
   "cell_type": "markdown",
   "metadata": {},
   "source": [
    "reviews.didPurchase 혹은 reviews.numHelpful이 True인 열만 학습하기에는 머신러닝 모델을 학습하기에 적은 편입니다.   \n",
    "따라서 다음과 같은 문제가 발생할 수 있습니다. \n",
    "- 과적합 (Overfitting): 모델이 훈련 데이터에 너무 잘 맞춰져서 테스트 데이터나 실제 데이터에 대한 일반화 능력이 떨어집니다.  \n",
    "- 일반화 부족 (Underfitting): 모델이 훈련 데이터에서 충분한 패턴을 학습하지 못해 성능이 떨어집니다.  \n",
    "- 변동성: 모델의 예측이 데이터에 따라 크게 달라질 수 있습니다. "
   ]
  },
  {
   "cell_type": "code",
   "execution_count": 5,
   "metadata": {
    "metadata": {}
   },
   "outputs": [
    {
     "data": {
      "text/html": [
       "<div>\n",
       "<style scoped>\n",
       "    .dataframe tbody tr th:only-of-type {\n",
       "        vertical-align: middle;\n",
       "    }\n",
       "\n",
       "    .dataframe tbody tr th {\n",
       "        vertical-align: top;\n",
       "    }\n",
       "\n",
       "    .dataframe thead th {\n",
       "        text-align: right;\n",
       "    }\n",
       "</style>\n",
       "<table border=\"1\" class=\"dataframe\">\n",
       "  <thead>\n",
       "    <tr style=\"text-align: right;\">\n",
       "      <th></th>\n",
       "      <th>reviews.rating</th>\n",
       "      <th>reviews.text</th>\n",
       "      <th>reviews.title</th>\n",
       "    </tr>\n",
       "  </thead>\n",
       "  <tbody>\n",
       "    <tr>\n",
       "      <th>0</th>\n",
       "      <td>5.0</td>\n",
       "      <td>This a fantastic white wine for any occasion!</td>\n",
       "      <td>My Favorite White Wine</td>\n",
       "    </tr>\n",
       "    <tr>\n",
       "      <th>1</th>\n",
       "      <td>5.0</td>\n",
       "      <td>Tart, not sweet...very refreshing and delicious!</td>\n",
       "      <td>Yum!!</td>\n",
       "    </tr>\n",
       "    <tr>\n",
       "      <th>2</th>\n",
       "      <td>5.0</td>\n",
       "      <td>I was given this wine so it was a delightful s...</td>\n",
       "      <td>A New Favorite!</td>\n",
       "    </tr>\n",
       "    <tr>\n",
       "      <th>3</th>\n",
       "      <td>5.0</td>\n",
       "      <td>This is a phenomenal wine and my new favorite ...</td>\n",
       "      <td>Bold, Flavorful, Aromatic, Delicious</td>\n",
       "    </tr>\n",
       "    <tr>\n",
       "      <th>4</th>\n",
       "      <td>5.0</td>\n",
       "      <td>4 750ml bottles for the price of two With way ...</td>\n",
       "      <td>Yum! Plus, Environmentally Friendly!</td>\n",
       "    </tr>\n",
       "    <tr>\n",
       "      <th>5</th>\n",
       "      <td>5.0</td>\n",
       "      <td>I LOVE Becks NA. It tastes just like a regular...</td>\n",
       "      <td>Great Taste</td>\n",
       "    </tr>\n",
       "    <tr>\n",
       "      <th>6</th>\n",
       "      <td>3.0</td>\n",
       "      <td>This wine has a wonderful but strong aroma its...</td>\n",
       "      <td>Simply Wonderful</td>\n",
       "    </tr>\n",
       "    <tr>\n",
       "      <th>7</th>\n",
       "      <td>2.0</td>\n",
       "      <td>I would give one more star if it came clean on...</td>\n",
       "      <td>A Sweet Red.</td>\n",
       "    </tr>\n",
       "    <tr>\n",
       "      <th>9</th>\n",
       "      <td>5.0</td>\n",
       "      <td>This is a very smooth red with Aromas of cocoa...</td>\n",
       "      <td>Charles &amp; Charles Red Blend</td>\n",
       "    </tr>\n",
       "    <tr>\n",
       "      <th>10</th>\n",
       "      <td>5.0</td>\n",
       "      <td>Based on positive reviews, I served all of the...</td>\n",
       "      <td>This Wine Made My Party!</td>\n",
       "    </tr>\n",
       "  </tbody>\n",
       "</table>\n",
       "</div>"
      ],
      "text/plain": [
       "    reviews.rating                                       reviews.text  \\\n",
       "0              5.0      This a fantastic white wine for any occasion!   \n",
       "1              5.0   Tart, not sweet...very refreshing and delicious!   \n",
       "2              5.0  I was given this wine so it was a delightful s...   \n",
       "3              5.0  This is a phenomenal wine and my new favorite ...   \n",
       "4              5.0  4 750ml bottles for the price of two With way ...   \n",
       "5              5.0  I LOVE Becks NA. It tastes just like a regular...   \n",
       "6              3.0  This wine has a wonderful but strong aroma its...   \n",
       "7              2.0  I would give one more star if it came clean on...   \n",
       "9              5.0  This is a very smooth red with Aromas of cocoa...   \n",
       "10             5.0  Based on positive reviews, I served all of the...   \n",
       "\n",
       "                           reviews.title  \n",
       "0                 My Favorite White Wine  \n",
       "1                                  Yum!!  \n",
       "2                        A New Favorite!  \n",
       "3   Bold, Flavorful, Aromatic, Delicious  \n",
       "4   Yum! Plus, Environmentally Friendly!  \n",
       "5                            Great Taste  \n",
       "6                       Simply Wonderful  \n",
       "7                           A Sweet Red.  \n",
       "9            Charles & Charles Red Blend  \n",
       "10              This Wine Made My Party!  "
      ]
     },
     "execution_count": 5,
     "metadata": {},
     "output_type": "execute_result"
    }
   ],
   "source": [
    "# 선택한 열들만 포함하는 데이터 프레임 생성\n",
    "selected_columns = ['reviews.rating', 'reviews.text', 'reviews.title']\n",
    "df = df[selected_columns]\n",
    "\n",
    "# 결측값이 있는 행 제거 (리뷰 텍스트와 제목, 별점이 없는 경우)\n",
    "df = df.dropna(subset=['reviews.rating', 'reviews.text', 'reviews.title'])\n",
    "\n",
    "df.head(10)"
   ]
  },
  {
   "cell_type": "markdown",
   "metadata": {},
   "source": [
    "위 문제를 피하기 위해 **reviews.rating, reviews.text, reviews.title** 이렇게 3개의 열을 사용하였습니다."
   ]
  },
  {
   "cell_type": "code",
   "execution_count": 6,
   "metadata": {
    "metadata": {}
   },
   "outputs": [
    {
     "name": "stdout",
     "output_type": "stream",
     "text": [
      "5.0    2018\n",
      "4.0     215\n",
      "1.0      68\n",
      "3.0      63\n",
      "2.0      42\n",
      "Name: reviews.rating, dtype: int64\n"
     ]
    }
   ],
   "source": [
    "# 각 클래스의 샘플 수 확인\n",
    "print(df['reviews.rating'].value_counts())\n"
   ]
  },
  {
   "cell_type": "markdown",
   "metadata": {},
   "source": [
    "reviews.rating이 너무 5점에 치우쳐져있습니다.  \n",
    "5점과 그렇지 않은 점수의 비율이 2018 : 318로 거의 6배에 달하는 모습입니다.  \n",
    "데이터를 보완해주기 위해 아래 코드에서 **데이터 증강(Data Augmentation)** 을 진행할 것입니다."
   ]
  },
  {
   "cell_type": "code",
   "execution_count": 7,
   "metadata": {
    "metadata": {}
   },
   "outputs": [
    {
     "name": "stdout",
     "output_type": "stream",
     "text": [
      "<class 'pandas.core.frame.DataFrame'>\n",
      "Int64Index: 2406 entries, 0 to 2889\n",
      "Data columns (total 3 columns):\n",
      " #   Column          Non-Null Count  Dtype  \n",
      "---  ------          --------------  -----  \n",
      " 0   reviews.rating  2406 non-null   float64\n",
      " 1   reviews.text    2406 non-null   object \n",
      " 2   reviews.title   2406 non-null   object \n",
      "dtypes: float64(1), object(2)\n",
      "memory usage: 75.2+ KB\n",
      "None\n"
     ]
    }
   ],
   "source": [
    "print(df.info())"
   ]
  },
  {
   "cell_type": "markdown",
   "metadata": {},
   "source": [
    "### 2. **데이터 전처리**:  \n",
    "- 데이터 정리 (노이즈 제거, 결측값 처리 등).\n",
    "- 텍스트 토큰화 및 불용어 제거.\n",
    "- 텍스트 정규화 (스테밍 또는 표제어 추출)."
   ]
  },
  {
   "cell_type": "code",
   "execution_count": 8,
   "metadata": {
    "metadata": {}
   },
   "outputs": [],
   "source": [
    "# 텍스트 정리 함수 정의 (특수 문자 제거, 소문자 변환, 추가 공백 제거)\n",
    "def clean_text(text):\n",
    "    text = re.sub(r'\\s+', ' ', text)  # 추가 공백 제거\n",
    "    text = re.sub(r'[^\\w\\s]', '', text)  # 특수 문자 제거\n",
    "    text = text.strip().lower()  # 앞뒤 공백 제거 및 소문자 변환\n",
    "    return text\n",
    "\n",
    "\n",
    "# 불용어 설정\n",
    "stop_words = set(stopwords.words('english'))\n",
    "\n",
    "def tokenize_and_remove_stopwords(text):\n",
    "    words = word_tokenize(text.lower())  # 소문자로 변환하여 토큰화\n",
    "    filtered_words = [word for word in words if word.isalpha() and word not in stop_words]\n",
    "    return filtered_words\n",
    "\n",
    "# 리뷰 텍스트와 제목에 대해 함수 적용\n",
    "df['cleaned_text'] = df['reviews.text'].apply(clean_text)\n",
    "df['cleaned_title'] = df['reviews.title'].apply(clean_text) \n",
    "df['tokenized_text'] = df['cleaned_text'].apply(tokenize_and_remove_stopwords)\n",
    "df['tokenized_title'] = df['cleaned_title'].apply(tokenize_and_remove_stopwords)"
   ]
  },
  {
   "cell_type": "code",
   "execution_count": 9,
   "metadata": {
    "metadata": {}
   },
   "outputs": [
    {
     "data": {
      "text/html": [
       "<div>\n",
       "<style scoped>\n",
       "    .dataframe tbody tr th:only-of-type {\n",
       "        vertical-align: middle;\n",
       "    }\n",
       "\n",
       "    .dataframe tbody tr th {\n",
       "        vertical-align: top;\n",
       "    }\n",
       "\n",
       "    .dataframe thead th {\n",
       "        text-align: right;\n",
       "    }\n",
       "</style>\n",
       "<table border=\"1\" class=\"dataframe\">\n",
       "  <thead>\n",
       "    <tr style=\"text-align: right;\">\n",
       "      <th></th>\n",
       "      <th>reviews.text</th>\n",
       "      <th>tokenized_text</th>\n",
       "      <th>stemmed_text</th>\n",
       "      <th>lemmatized_text</th>\n",
       "    </tr>\n",
       "  </thead>\n",
       "  <tbody>\n",
       "    <tr>\n",
       "      <th>0</th>\n",
       "      <td>This a fantastic white wine for any occasion!</td>\n",
       "      <td>[fantastic, white, wine, occasion]</td>\n",
       "      <td>[fantast, white, wine, occas]</td>\n",
       "      <td>[fantastic, white, wine, occasion]</td>\n",
       "    </tr>\n",
       "    <tr>\n",
       "      <th>1</th>\n",
       "      <td>Tart, not sweet...very refreshing and delicious!</td>\n",
       "      <td>[tart, sweetvery, refreshing, delicious]</td>\n",
       "      <td>[tart, sweetveri, refresh, delici]</td>\n",
       "      <td>[tart, sweetvery, refreshing, delicious]</td>\n",
       "    </tr>\n",
       "    <tr>\n",
       "      <th>2</th>\n",
       "      <td>I was given this wine so it was a delightful s...</td>\n",
       "      <td>[given, wine, delightful, surprise, find, flav...</td>\n",
       "      <td>[given, wine, delight, surpris, find, flavor, ...</td>\n",
       "      <td>[given, wine, delightful, surprise, find, flav...</td>\n",
       "    </tr>\n",
       "  </tbody>\n",
       "</table>\n",
       "</div>"
      ],
      "text/plain": [
       "                                        reviews.text  \\\n",
       "0      This a fantastic white wine for any occasion!   \n",
       "1   Tart, not sweet...very refreshing and delicious!   \n",
       "2  I was given this wine so it was a delightful s...   \n",
       "\n",
       "                                      tokenized_text  \\\n",
       "0                 [fantastic, white, wine, occasion]   \n",
       "1           [tart, sweetvery, refreshing, delicious]   \n",
       "2  [given, wine, delightful, surprise, find, flav...   \n",
       "\n",
       "                                        stemmed_text  \\\n",
       "0                      [fantast, white, wine, occas]   \n",
       "1                 [tart, sweetveri, refresh, delici]   \n",
       "2  [given, wine, delight, surpris, find, flavor, ...   \n",
       "\n",
       "                                     lemmatized_text  \n",
       "0                 [fantastic, white, wine, occasion]  \n",
       "1           [tart, sweetvery, refreshing, delicious]  \n",
       "2  [given, wine, delightful, surprise, find, flav...  "
      ]
     },
     "execution_count": 9,
     "metadata": {},
     "output_type": "execute_result"
    }
   ],
   "source": [
    "from nltk.stem import PorterStemmer, WordNetLemmatizer\n",
    "\n",
    "# 스테밍 설정\n",
    "stemmer = PorterStemmer()\n",
    "\n",
    "# 스테밍 함수 정의\n",
    "def stemming(words):\n",
    "    return [stemmer.stem(word) for word in words]\n",
    "\n",
    "# 표제어 추출 설정\n",
    "lemmatizer = WordNetLemmatizer()\n",
    "\n",
    "# 표제어 추출 함수 정의\n",
    "def lemmatization(words):\n",
    "    return [lemmatizer.lemmatize(word) for word in words]\n",
    "\n",
    "# 리뷰 텍스트와 제목에 대해 스테밍 및 표제어 추출 적용\n",
    "df['stemmed_text'] = df['tokenized_text'].apply(stemming)\n",
    "df['lemmatized_text'] = df['tokenized_text'].apply(lemmatization)\n",
    "df['stemmed_title'] = df['tokenized_title'].apply(stemming)\n",
    "df['lemmatized_title'] = df['tokenized_title'].apply(lemmatization)\n",
    "\n",
    "# 정리된 데이터 확인\n",
    "df[['reviews.text', 'tokenized_text', 'stemmed_text', 'lemmatized_text']].head(3)\n"
   ]
  },
  {
   "cell_type": "markdown",
   "metadata": {},
   "source": [
    "reviews.text를 토큰화하고 스테밍, 표제어 추출을 하는 과정을 나타냈습니다."
   ]
  },
  {
   "cell_type": "code",
   "execution_count": 10,
   "metadata": {
    "metadata": {}
   },
   "outputs": [
    {
     "data": {
      "text/html": [
       "<div>\n",
       "<style scoped>\n",
       "    .dataframe tbody tr th:only-of-type {\n",
       "        vertical-align: middle;\n",
       "    }\n",
       "\n",
       "    .dataframe tbody tr th {\n",
       "        vertical-align: top;\n",
       "    }\n",
       "\n",
       "    .dataframe thead th {\n",
       "        text-align: right;\n",
       "    }\n",
       "</style>\n",
       "<table border=\"1\" class=\"dataframe\">\n",
       "  <thead>\n",
       "    <tr style=\"text-align: right;\">\n",
       "      <th></th>\n",
       "      <th>lemmatized_text</th>\n",
       "      <th>lemmatized_title</th>\n",
       "    </tr>\n",
       "  </thead>\n",
       "  <tbody>\n",
       "    <tr>\n",
       "      <th>0</th>\n",
       "      <td>[fantastic, white, wine, occasion]</td>\n",
       "      <td>[favorite, white, wine]</td>\n",
       "    </tr>\n",
       "    <tr>\n",
       "      <th>1</th>\n",
       "      <td>[tart, sweetvery, refreshing, delicious]</td>\n",
       "      <td>[yum]</td>\n",
       "    </tr>\n",
       "    <tr>\n",
       "      <th>2</th>\n",
       "      <td>[given, wine, delightful, surprise, find, flav...</td>\n",
       "      <td>[new, favorite]</td>\n",
       "    </tr>\n",
       "  </tbody>\n",
       "</table>\n",
       "</div>"
      ],
      "text/plain": [
       "                                     lemmatized_text         lemmatized_title\n",
       "0                 [fantastic, white, wine, occasion]  [favorite, white, wine]\n",
       "1           [tart, sweetvery, refreshing, delicious]                    [yum]\n",
       "2  [given, wine, delightful, surprise, find, flav...          [new, favorite]"
      ]
     },
     "execution_count": 10,
     "metadata": {},
     "output_type": "execute_result"
    }
   ],
   "source": [
    "df[['lemmatized_text', 'lemmatized_title']].head(3)"
   ]
  },
  {
   "cell_type": "markdown",
   "metadata": {},
   "source": [
    "리뷰 내용과 제목에 대해 표제어 추출을 한 모습입니다."
   ]
  },
  {
   "cell_type": "code",
   "execution_count": 11,
   "metadata": {
    "metadata": {}
   },
   "outputs": [
    {
     "data": {
      "text/html": [
       "<div>\n",
       "<style scoped>\n",
       "    .dataframe tbody tr th:only-of-type {\n",
       "        vertical-align: middle;\n",
       "    }\n",
       "\n",
       "    .dataframe tbody tr th {\n",
       "        vertical-align: top;\n",
       "    }\n",
       "\n",
       "    .dataframe thead th {\n",
       "        text-align: right;\n",
       "    }\n",
       "</style>\n",
       "<table border=\"1\" class=\"dataframe\">\n",
       "  <thead>\n",
       "    <tr style=\"text-align: right;\">\n",
       "      <th></th>\n",
       "      <th>combined_text</th>\n",
       "    </tr>\n",
       "  </thead>\n",
       "  <tbody>\n",
       "    <tr>\n",
       "      <th>0</th>\n",
       "      <td>[fantastic, white, wine, occasion, favorite, w...</td>\n",
       "    </tr>\n",
       "    <tr>\n",
       "      <th>1</th>\n",
       "      <td>[tart, sweetvery, refreshing, delicious, yum]</td>\n",
       "    </tr>\n",
       "    <tr>\n",
       "      <th>2</th>\n",
       "      <td>[given, wine, delightful, surprise, find, flav...</td>\n",
       "    </tr>\n",
       "  </tbody>\n",
       "</table>\n",
       "</div>"
      ],
      "text/plain": [
       "                                       combined_text\n",
       "0  [fantastic, white, wine, occasion, favorite, w...\n",
       "1      [tart, sweetvery, refreshing, delicious, yum]\n",
       "2  [given, wine, delightful, surprise, find, flav..."
      ]
     },
     "execution_count": 11,
     "metadata": {},
     "output_type": "execute_result"
    }
   ],
   "source": [
    "# lemmatized_text와 lemmatized_title을 결합하여 combined_text 열 생성\n",
    "df['combined_text'] = df.apply(lambda row: row['lemmatized_text'] + row['lemmatized_title'], axis=1)\n",
    "\n",
    "df[['combined_text']].head(3)"
   ]
  },
  {
   "cell_type": "markdown",
   "metadata": {},
   "source": [
    "이 둘을 합쳐서 하나의 combined_text로 합쳐주었습니다."
   ]
  },
  {
   "cell_type": "code",
   "execution_count": 12,
   "metadata": {
    "metadata": {}
   },
   "outputs": [
    {
     "name": "stdout",
     "output_type": "stream",
     "text": [
      "reviews.rating      0\n",
      "reviews.text        0\n",
      "reviews.title       0\n",
      "cleaned_text        0\n",
      "cleaned_title       0\n",
      "tokenized_text      0\n",
      "tokenized_title     0\n",
      "stemmed_text        0\n",
      "lemmatized_text     0\n",
      "stemmed_title       0\n",
      "lemmatized_title    0\n",
      "combined_text       0\n",
      "dtype: int64\n"
     ]
    }
   ],
   "source": [
    "# 결측값 확인\n",
    "print(df.isnull().sum())\n",
    "\n",
    "# 사용하지 않을 열들을 제거\n",
    "selected_columns = ['reviews.rating', 'combined_text']\n",
    "df = df[selected_columns]"
   ]
  },
  {
   "cell_type": "markdown",
   "metadata": {},
   "source": [
    "결측값을 위에서 제거하여 깔끔하게 된 데이터의 모습입니다."
   ]
  },
  {
   "cell_type": "code",
   "execution_count": 14,
   "metadata": {
    "metadata": {}
   },
   "outputs": [
    {
     "name": "stdout",
     "output_type": "stream",
     "text": [
      "5.0    3000\n",
      "3.0    3000\n",
      "2.0    3000\n",
      "4.0    3000\n",
      "1.0    3000\n",
      "Name: reviews.rating, dtype: int64\n"
     ]
    }
   ],
   "source": [
    "import nlpaug.augmenter.word as naw\n",
    "import pandas as pd\n",
    "\n",
    "# 데이터 증강을 위한 설정: WordNet을 사용하여 동의어를 기반으로 텍스트를 증강\n",
    "target_count = 3000  # 각 클래스별 목표 데이터 수\n",
    "aug = naw.SynonymAug(aug_src='wordnet')  # WordNet을 소스로 사용하는 동의어 증강기 생성\n",
    "\n",
    "# 각 클래스별 데이터 증강\n",
    "augmented_data = []  # 증강된 데이터를 저장할 리스트 초기화\n",
    "for rating in df['reviews.rating'].unique():  # 데이터 프레임에서 고유한 평점을 기준으로 반복\n",
    "    subset = df[df['reviews.rating'] == rating]  # 현재 평점에 해당하는 데이터만 선택\n",
    "    \n",
    "    # 선택된 데이터의 수가 목표 수(target_count)에 도달할 때까지 증강을 반복\n",
    "    while len(subset) < target_count:\n",
    "        # 현재 데이터 셋의 텍스트에 대해 증강을 수행하고 증강된 텍스트의 리스트 생성\n",
    "        aug_texts = [aug.augment(text) for text in subset['combined_text']]\n",
    "        \n",
    "        # 증강된 텍스트를 포함하는 새로운 데이터 프레임 생성\n",
    "        aug_subset = subset.copy()  # 현재 데이터 셋 복사\n",
    "        aug_subset['combined_text'] = aug_texts  # 증강된 텍스트로 'combined_text' 열 갱신\n",
    "        \n",
    "        # 원본 데이터 셋과 증강된 데이터 셋을 결합\n",
    "        subset = pd.concat([subset, aug_subset])\n",
    "        subset = subset.head(target_count)  # 데이터 수가 target_count를 초과하지 않도록 조정\n",
    "        \n",
    "    # 완성된 증강 데이터를 리스트에 추가\n",
    "    augmented_data.append(subset)\n",
    "\n",
    "# 증강된 데이터 프레임 결합\n",
    "augmented_df = pd.concat(augmented_data)  # 리스트에 저장된 모든 데이터 프레임을 하나로 결합\n",
    "\n",
    "# 최종적으로 각 평점별 데이터 수 출력\n",
    "print(augmented_df['reviews.rating'].value_counts())\n"
   ]
  },
  {
   "cell_type": "markdown",
   "metadata": {},
   "source": [
    "위에서 살펴보셨듯이, 별점이 5점인 리뷰가 굉장히 많아 각 별점 당 3000개씩 데이터들을 증강해주었습니다."
   ]
  },
  {
   "cell_type": "markdown",
   "metadata": {},
   "source": [
    "### 3. **모델 구현**:\n",
    "- VADER 감정 분석 모델을 적용"
   ]
  },
  {
   "cell_type": "code",
   "execution_count": 15,
   "metadata": {
    "metadata": {}
   },
   "outputs": [
    {
     "data": {
      "text/html": [
       "<div>\n",
       "<style scoped>\n",
       "    .dataframe tbody tr th:only-of-type {\n",
       "        vertical-align: middle;\n",
       "    }\n",
       "\n",
       "    .dataframe tbody tr th {\n",
       "        vertical-align: top;\n",
       "    }\n",
       "\n",
       "    .dataframe thead th {\n",
       "        text-align: right;\n",
       "    }\n",
       "</style>\n",
       "<table border=\"1\" class=\"dataframe\">\n",
       "  <thead>\n",
       "    <tr style=\"text-align: right;\">\n",
       "      <th></th>\n",
       "      <th>combined_text</th>\n",
       "      <th>compound</th>\n",
       "      <th>pos</th>\n",
       "      <th>neu</th>\n",
       "      <th>neg</th>\n",
       "    </tr>\n",
       "  </thead>\n",
       "  <tbody>\n",
       "    <tr>\n",
       "      <th>0</th>\n",
       "      <td>[fantastic, white, wine, occasion, favorite, w...</td>\n",
       "      <td>0.7650</td>\n",
       "      <td>0.569</td>\n",
       "      <td>0.431</td>\n",
       "      <td>0.000</td>\n",
       "    </tr>\n",
       "    <tr>\n",
       "      <th>1</th>\n",
       "      <td>[tart, sweetvery, refreshing, delicious, yum]</td>\n",
       "      <td>0.5719</td>\n",
       "      <td>0.481</td>\n",
       "      <td>0.519</td>\n",
       "      <td>0.000</td>\n",
       "    </tr>\n",
       "    <tr>\n",
       "      <th>2</th>\n",
       "      <td>[given, wine, delightful, surprise, find, flav...</td>\n",
       "      <td>0.9393</td>\n",
       "      <td>0.690</td>\n",
       "      <td>0.310</td>\n",
       "      <td>0.000</td>\n",
       "    </tr>\n",
       "    <tr>\n",
       "      <th>3</th>\n",
       "      <td>[phenomenal, wine, new, favorite, red, bold, f...</td>\n",
       "      <td>0.8519</td>\n",
       "      <td>0.608</td>\n",
       "      <td>0.392</td>\n",
       "      <td>0.000</td>\n",
       "    </tr>\n",
       "    <tr>\n",
       "      <th>4</th>\n",
       "      <td>[bottle, price, two, way, le, packaging, yes, ...</td>\n",
       "      <td>0.8256</td>\n",
       "      <td>0.330</td>\n",
       "      <td>0.522</td>\n",
       "      <td>0.149</td>\n",
       "    </tr>\n",
       "    <tr>\n",
       "      <th>5</th>\n",
       "      <td>[love, beck, na, taste, like, regular, ale, sm...</td>\n",
       "      <td>0.9833</td>\n",
       "      <td>0.690</td>\n",
       "      <td>0.310</td>\n",
       "      <td>0.000</td>\n",
       "    </tr>\n",
       "    <tr>\n",
       "      <th>9</th>\n",
       "      <td>[smooth, red, aroma, cocoa, coffee, tobacco, s...</td>\n",
       "      <td>0.8122</td>\n",
       "      <td>0.359</td>\n",
       "      <td>0.641</td>\n",
       "      <td>0.000</td>\n",
       "    </tr>\n",
       "    <tr>\n",
       "      <th>10</th>\n",
       "      <td>[based, positive, review, served, fancy, pant,...</td>\n",
       "      <td>0.9920</td>\n",
       "      <td>0.449</td>\n",
       "      <td>0.551</td>\n",
       "      <td>0.000</td>\n",
       "    </tr>\n",
       "    <tr>\n",
       "      <th>11</th>\n",
       "      <td>[nice, fruity, sweet, taking, sparkling, wine,...</td>\n",
       "      <td>0.9719</td>\n",
       "      <td>0.658</td>\n",
       "      <td>0.342</td>\n",
       "      <td>0.000</td>\n",
       "    </tr>\n",
       "    <tr>\n",
       "      <th>12</th>\n",
       "      <td>[rich, amber, ale, subtle, noticeable, hop, ch...</td>\n",
       "      <td>0.9432</td>\n",
       "      <td>0.600</td>\n",
       "      <td>0.400</td>\n",
       "      <td>0.000</td>\n",
       "    </tr>\n",
       "  </tbody>\n",
       "</table>\n",
       "</div>"
      ],
      "text/plain": [
       "                                        combined_text  compound    pos    neu  \\\n",
       "0   [fantastic, white, wine, occasion, favorite, w...    0.7650  0.569  0.431   \n",
       "1       [tart, sweetvery, refreshing, delicious, yum]    0.5719  0.481  0.519   \n",
       "2   [given, wine, delightful, surprise, find, flav...    0.9393  0.690  0.310   \n",
       "3   [phenomenal, wine, new, favorite, red, bold, f...    0.8519  0.608  0.392   \n",
       "4   [bottle, price, two, way, le, packaging, yes, ...    0.8256  0.330  0.522   \n",
       "5   [love, beck, na, taste, like, regular, ale, sm...    0.9833  0.690  0.310   \n",
       "9   [smooth, red, aroma, cocoa, coffee, tobacco, s...    0.8122  0.359  0.641   \n",
       "10  [based, positive, review, served, fancy, pant,...    0.9920  0.449  0.551   \n",
       "11  [nice, fruity, sweet, taking, sparkling, wine,...    0.9719  0.658  0.342   \n",
       "12  [rich, amber, ale, subtle, noticeable, hop, ch...    0.9432  0.600  0.400   \n",
       "\n",
       "      neg  \n",
       "0   0.000  \n",
       "1   0.000  \n",
       "2   0.000  \n",
       "3   0.000  \n",
       "4   0.149  \n",
       "5   0.000  \n",
       "9   0.000  \n",
       "10  0.000  \n",
       "11  0.000  \n",
       "12  0.000  "
      ]
     },
     "execution_count": 15,
     "metadata": {},
     "output_type": "execute_result"
    }
   ],
   "source": [
    "# VADER 감정 분석기 초기화\n",
    "analyzer = SentimentIntensityAnalyzer()\n",
    "\n",
    "# 감정 분석 함수 정의\n",
    "def vader_sentiment_analysis(text):\n",
    "    if isinstance(text, list):\n",
    "        text = ' '.join(text)  # 리스트를 문자열로 결합\n",
    "    return analyzer.polarity_scores(text)\n",
    "\n",
    "# combined_text 열에 대해 감정 분석 수행\n",
    "augmented_df['sentiment'] = augmented_df['combined_text'].apply(vader_sentiment_analysis)\n",
    "\n",
    "# 감정 분석 결과를 별도의 열로 분리\n",
    "augmented_df['compound'] = augmented_df['sentiment'].apply(lambda x: x['compound'])\n",
    "augmented_df['pos'] = augmented_df['sentiment'].apply(lambda x: x['pos'])\n",
    "augmented_df['neu'] = augmented_df['sentiment'].apply(lambda x: x['neu'])\n",
    "augmented_df['neg'] = augmented_df['sentiment'].apply(lambda x: x['neg'])\n",
    "\n",
    "# 결과 확인\n",
    "augmented_df[['combined_text', 'compound', 'pos', 'neu', 'neg']].head(10)\n"
   ]
  },
  {
   "cell_type": "markdown",
   "metadata": {},
   "source": [
    "- VADER 감정 분석기를 사용하고 이를 통해 **긍정적, 중립, 부정적 감정** 을 나타냅니다.    "
   ]
  },
  {
   "cell_type": "markdown",
   "metadata": {},
   "source": [
    "   \n",
    "   \n",
    "### 4. **모델 학습 및 튜닝**:\n",
    "- 데이터셋을 학습 및 테스트 세트로 분할.\n",
    "- 모델 학습 및 하이퍼파라미터 튜닝 (예: 그리드 서치 또는 랜덤 서치 사용).\n",
    "- 교차 검증과 같은 기술을 사용하여 견고성 보장."
   ]
  },
  {
   "cell_type": "code",
   "execution_count": 16,
   "metadata": {
    "metadata": {}
   },
   "outputs": [
    {
     "name": "stdout",
     "output_type": "stream",
     "text": [
      "Train set size: 12000, Test set size: 3000\n"
     ]
    }
   ],
   "source": [
    "# compound 값을 기준으로 이진 라벨링\n",
    "augmented_df['sentiment_label'] = augmented_df['compound'].apply(lambda x: 1 if x > 0.2 else 0)\n",
    "\n",
    "# combined_text 열의 리스트를 문자열로 변환\n",
    "augmented_df['combined_text'] = augmented_df['combined_text'].apply(lambda x: ' '.join(x))\n",
    "\n",
    "# 학습 및 테스트 데이터로 분할\n",
    "X_train, X_test, y_train, y_test = train_test_split(\n",
    "    augmented_df['combined_text'], \n",
    "    augmented_df['sentiment_label'], \n",
    "    test_size=0.2, \n",
    "    random_state=42\n",
    ")\n",
    "\n",
    "print(f\"Train set size: {len(X_train)}, Test set size: {len(X_test)}\")"
   ]
  },
  {
   "cell_type": "markdown",
   "metadata": {},
   "source": [
    "- 로지스틱 회귀를 사용할 예정이기 때문에 이에 적합한 이진 분류를 위해 **긍정적 리뷰**와 **부정적 리뷰** 2개로 나누었습니다.  \n",
    "- 검증된 값의 기준을 0.2를 바탕으로 0.2보다 크다면 **긍정적 리뷰(1로 나타냄)** 로, 그렇지 않다면 **부정적 리뷰(0으로 나타냄)** 로 분류해주었습니다.  \n",
    "- 데이터를 증폭하였기 때문에 총 15000개의 데이터의 80%를 훈련 데이터로, 20%를 검증 데이터로 분할하였습니다."
   ]
  },
  {
   "cell_type": "code",
   "execution_count": 17,
   "metadata": {
    "metadata": {}
   },
   "outputs": [
    {
     "data": {
      "text/plain": [
       "2674    oklahoman state interchangeable roboust cherry...\n",
       "579     full drunkard figure great refresh drop pellet...\n",
       "16      im sure spoilt nursing feed bottle deliberatel...\n",
       "Name: combined_text, dtype: object"
      ]
     },
     "execution_count": 17,
     "metadata": {},
     "output_type": "execute_result"
    }
   ],
   "source": [
    "X_train.head(3)"
   ]
  },
  {
   "cell_type": "markdown",
   "metadata": {},
   "source": [
    "데이터가 문제없이 잘 분할되었습니다."
   ]
  },
  {
   "cell_type": "code",
   "execution_count": 18,
   "metadata": {
    "metadata": {}
   },
   "outputs": [
    {
     "name": "stdout",
     "output_type": "stream",
     "text": [
      "Fitting 5 folds for each of 12 candidates, totalling 60 fits\n"
     ]
    },
    {
     "name": "stdout",
     "output_type": "stream",
     "text": [
      "[CV] END classifier__C=0.1, tfidf__max_features=5000, tfidf__ngram_range=(1, 1); total time=   0.5s\n",
      "[CV] END classifier__C=0.1, tfidf__max_features=5000, tfidf__ngram_range=(1, 1); total time=   0.4s\n",
      "[CV] END classifier__C=0.1, tfidf__max_features=5000, tfidf__ngram_range=(1, 1); total time=   0.5s\n",
      "[CV] END classifier__C=0.1, tfidf__max_features=5000, tfidf__ngram_range=(1, 1); total time=   0.5s\n",
      "[CV] END classifier__C=0.1, tfidf__max_features=5000, tfidf__ngram_range=(1, 1); total time=   0.5s\n",
      "[CV] END classifier__C=0.1, tfidf__max_features=5000, tfidf__ngram_range=(1, 2); total time=   1.2s\n",
      "[CV] END classifier__C=0.1, tfidf__max_features=5000, tfidf__ngram_range=(1, 2); total time=   1.2s\n",
      "[CV] END classifier__C=0.1, tfidf__max_features=5000, tfidf__ngram_range=(1, 2); total time=   1.2s\n",
      "[CV] END classifier__C=0.1, tfidf__max_features=5000, tfidf__ngram_range=(1, 2); total time=   1.2s\n",
      "[CV] END classifier__C=0.1, tfidf__max_features=10000, tfidf__ngram_range=(1, 1); total time=   0.4s\n",
      "[CV] END classifier__C=0.1, tfidf__max_features=10000, tfidf__ngram_range=(1, 1); total time=   0.4s\n",
      "[CV] END classifier__C=0.1, tfidf__max_features=10000, tfidf__ngram_range=(1, 1); total time=   0.5s\n",
      "[CV] END classifier__C=0.1, tfidf__max_features=10000, tfidf__ngram_range=(1, 1); total time=   0.5s\n",
      "[CV] END classifier__C=0.1, tfidf__max_features=10000, tfidf__ngram_range=(1, 1); total time=   0.4s\n",
      "[CV] END classifier__C=0.1, tfidf__max_features=5000, tfidf__ngram_range=(1, 2); total time=   1.2s\n",
      "[CV] END classifier__C=0.1, tfidf__max_features=10000, tfidf__ngram_range=(1, 2); total time=   1.2s\n",
      "[CV] END classifier__C=0.1, tfidf__max_features=10000, tfidf__ngram_range=(1, 2); total time=   1.2s\n",
      "[CV] END classifier__C=0.1, tfidf__max_features=10000, tfidf__ngram_range=(1, 2); total time=   1.3s\n",
      "[CV] END classifier__C=0.1, tfidf__max_features=10000, tfidf__ngram_range=(1, 2); total time=   1.2s\n",
      "[CV] END classifier__C=1, tfidf__max_features=5000, tfidf__ngram_range=(1, 1); total time=   0.5s\n",
      "[CV] END classifier__C=1, tfidf__max_features=5000, tfidf__ngram_range=(1, 1); total time=   0.5s\n",
      "[CV] END classifier__C=1, tfidf__max_features=5000, tfidf__ngram_range=(1, 1); total time=   0.5s\n",
      "[CV] END classifier__C=1, tfidf__max_features=5000, tfidf__ngram_range=(1, 1); total time=   0.5s\n",
      "[CV] END classifier__C=1, tfidf__max_features=5000, tfidf__ngram_range=(1, 1); total time=   0.5s\n",
      "[CV] END classifier__C=0.1, tfidf__max_features=10000, tfidf__ngram_range=(1, 2); total time=   1.2s\n",
      "[CV] END classifier__C=1, tfidf__max_features=5000, tfidf__ngram_range=(1, 2); total time=   1.2s\n",
      "[CV] END classifier__C=1, tfidf__max_features=5000, tfidf__ngram_range=(1, 2); total time=   1.3s\n",
      "[CV] END classifier__C=1, tfidf__max_features=5000, tfidf__ngram_range=(1, 2); total time=   1.3s\n",
      "[CV] END classifier__C=1, tfidf__max_features=5000, tfidf__ngram_range=(1, 2); total time=   1.3s\n",
      "[CV] END classifier__C=1, tfidf__max_features=10000, tfidf__ngram_range=(1, 1); total time=   0.5s\n",
      "[CV] END classifier__C=1, tfidf__max_features=10000, tfidf__ngram_range=(1, 1); total time=   0.5s\n",
      "[CV] END classifier__C=1, tfidf__max_features=10000, tfidf__ngram_range=(1, 1); total time=   0.5s\n",
      "[CV] END classifier__C=1, tfidf__max_features=10000, tfidf__ngram_range=(1, 1); total time=   0.5s\n",
      "[CV] END classifier__C=1, tfidf__max_features=5000, tfidf__ngram_range=(1, 2); total time=   1.3s\n",
      "[CV] END classifier__C=1, tfidf__max_features=10000, tfidf__ngram_range=(1, 1); total time=   0.5s\n",
      "[CV] END classifier__C=1, tfidf__max_features=10000, tfidf__ngram_range=(1, 2); total time=   1.2s\n",
      "[CV] END classifier__C=1, tfidf__max_features=10000, tfidf__ngram_range=(1, 2); total time=   1.2s\n",
      "[CV] END classifier__C=1, tfidf__max_features=10000, tfidf__ngram_range=(1, 2); total time=   1.3s\n",
      "[CV] END classifier__C=1, tfidf__max_features=10000, tfidf__ngram_range=(1, 2); total time=   1.3s\n"
     ]
    },
    {
     "name": "stderr",
     "output_type": "stream",
     "text": [
      "/home/codespace/.python/current/lib/python3.10/site-packages/sklearn/linear_model/_logistic.py:458: ConvergenceWarning: lbfgs failed to converge (status=1):\n",
      "STOP: TOTAL NO. of ITERATIONS REACHED LIMIT.\n",
      "\n",
      "Increase the number of iterations (max_iter) or scale the data as shown in:\n",
      "    https://scikit-learn.org/stable/modules/preprocessing.html\n",
      "Please also refer to the documentation for alternative solver options:\n",
      "    https://scikit-learn.org/stable/modules/linear_model.html#logistic-regression\n",
      "  n_iter_i = _check_optimize_result(\n"
     ]
    },
    {
     "name": "stdout",
     "output_type": "stream",
     "text": [
      "[CV] END classifier__C=10, tfidf__max_features=5000, tfidf__ngram_range=(1, 1); total time=   0.5s\n",
      "[CV] END classifier__C=10, tfidf__max_features=5000, tfidf__ngram_range=(1, 1); total time=   0.5s\n",
      "[CV] END classifier__C=10, tfidf__max_features=5000, tfidf__ngram_range=(1, 1); total time=   0.5s\n",
      "[CV] END classifier__C=1, tfidf__max_features=10000, tfidf__ngram_range=(1, 2); total time=   1.2s\n",
      "[CV] END classifier__C=10, tfidf__max_features=5000, tfidf__ngram_range=(1, 1); total time=   0.5s\n",
      "[CV] END classifier__C=10, tfidf__max_features=5000, tfidf__ngram_range=(1, 1); total time=   0.5s\n"
     ]
    },
    {
     "name": "stderr",
     "output_type": "stream",
     "text": [
      "/home/codespace/.python/current/lib/python3.10/site-packages/sklearn/linear_model/_logistic.py:458: ConvergenceWarning: lbfgs failed to converge (status=1):\n",
      "STOP: TOTAL NO. of ITERATIONS REACHED LIMIT.\n",
      "\n",
      "Increase the number of iterations (max_iter) or scale the data as shown in:\n",
      "    https://scikit-learn.org/stable/modules/preprocessing.html\n",
      "Please also refer to the documentation for alternative solver options:\n",
      "    https://scikit-learn.org/stable/modules/linear_model.html#logistic-regression\n",
      "  n_iter_i = _check_optimize_result(\n",
      "/home/codespace/.python/current/lib/python3.10/site-packages/sklearn/linear_model/_logistic.py:458: ConvergenceWarning: lbfgs failed to converge (status=1):\n",
      "STOP: TOTAL NO. of ITERATIONS REACHED LIMIT.\n",
      "\n",
      "Increase the number of iterations (max_iter) or scale the data as shown in:\n",
      "    https://scikit-learn.org/stable/modules/preprocessing.html\n",
      "Please also refer to the documentation for alternative solver options:\n",
      "    https://scikit-learn.org/stable/modules/linear_model.html#logistic-regression\n",
      "  n_iter_i = _check_optimize_result(\n",
      "/home/codespace/.python/current/lib/python3.10/site-packages/sklearn/linear_model/_logistic.py:458: ConvergenceWarning: lbfgs failed to converge (status=1):\n",
      "STOP: TOTAL NO. of ITERATIONS REACHED LIMIT.\n",
      "\n",
      "Increase the number of iterations (max_iter) or scale the data as shown in:\n",
      "    https://scikit-learn.org/stable/modules/preprocessing.html\n",
      "Please also refer to the documentation for alternative solver options:\n",
      "    https://scikit-learn.org/stable/modules/linear_model.html#logistic-regression\n",
      "  n_iter_i = _check_optimize_result(\n"
     ]
    },
    {
     "name": "stdout",
     "output_type": "stream",
     "text": [
      "[CV] END classifier__C=10, tfidf__max_features=5000, tfidf__ngram_range=(1, 2); total time=   1.4s\n",
      "[CV] END classifier__C=10, tfidf__max_features=5000, tfidf__ngram_range=(1, 2); total time=   1.4s\n",
      "[CV] END classifier__C=10, tfidf__max_features=5000, tfidf__ngram_range=(1, 2); total time=   1.4s\n",
      "[CV] END classifier__C=10, tfidf__max_features=5000, tfidf__ngram_range=(1, 2); total time=   1.4s\n",
      "[CV] END classifier__C=10, tfidf__max_features=10000, tfidf__ngram_range=(1, 1); total time=   0.5s\n"
     ]
    },
    {
     "name": "stderr",
     "output_type": "stream",
     "text": [
      "/home/codespace/.python/current/lib/python3.10/site-packages/sklearn/linear_model/_logistic.py:458: ConvergenceWarning: lbfgs failed to converge (status=1):\n",
      "STOP: TOTAL NO. of ITERATIONS REACHED LIMIT.\n",
      "\n",
      "Increase the number of iterations (max_iter) or scale the data as shown in:\n",
      "    https://scikit-learn.org/stable/modules/preprocessing.html\n",
      "Please also refer to the documentation for alternative solver options:\n",
      "    https://scikit-learn.org/stable/modules/linear_model.html#logistic-regression\n",
      "  n_iter_i = _check_optimize_result(\n"
     ]
    },
    {
     "name": "stdout",
     "output_type": "stream",
     "text": [
      "[CV] END classifier__C=10, tfidf__max_features=10000, tfidf__ngram_range=(1, 1); total time=   0.6s\n",
      "[CV] END classifier__C=10, tfidf__max_features=10000, tfidf__ngram_range=(1, 1); total time=   0.6s\n"
     ]
    },
    {
     "name": "stderr",
     "output_type": "stream",
     "text": [
      "/home/codespace/.python/current/lib/python3.10/site-packages/sklearn/linear_model/_logistic.py:458: ConvergenceWarning: lbfgs failed to converge (status=1):\n",
      "STOP: TOTAL NO. of ITERATIONS REACHED LIMIT.\n",
      "\n",
      "Increase the number of iterations (max_iter) or scale the data as shown in:\n",
      "    https://scikit-learn.org/stable/modules/preprocessing.html\n",
      "Please also refer to the documentation for alternative solver options:\n",
      "    https://scikit-learn.org/stable/modules/linear_model.html#logistic-regression\n",
      "  n_iter_i = _check_optimize_result(\n"
     ]
    },
    {
     "name": "stdout",
     "output_type": "stream",
     "text": [
      "[CV] END classifier__C=10, tfidf__max_features=10000, tfidf__ngram_range=(1, 1); total time=   0.5s\n",
      "[CV] END classifier__C=10, tfidf__max_features=5000, tfidf__ngram_range=(1, 2); total time=   1.4s\n"
     ]
    },
    {
     "name": "stderr",
     "output_type": "stream",
     "text": [
      "/home/codespace/.python/current/lib/python3.10/site-packages/sklearn/linear_model/_logistic.py:458: ConvergenceWarning: lbfgs failed to converge (status=1):\n",
      "STOP: TOTAL NO. of ITERATIONS REACHED LIMIT.\n",
      "\n",
      "Increase the number of iterations (max_iter) or scale the data as shown in:\n",
      "    https://scikit-learn.org/stable/modules/preprocessing.html\n",
      "Please also refer to the documentation for alternative solver options:\n",
      "    https://scikit-learn.org/stable/modules/linear_model.html#logistic-regression\n",
      "  n_iter_i = _check_optimize_result(\n"
     ]
    },
    {
     "name": "stdout",
     "output_type": "stream",
     "text": [
      "[CV] END classifier__C=10, tfidf__max_features=10000, tfidf__ngram_range=(1, 1); total time=   0.6s\n"
     ]
    },
    {
     "name": "stderr",
     "output_type": "stream",
     "text": [
      "/home/codespace/.python/current/lib/python3.10/site-packages/sklearn/linear_model/_logistic.py:458: ConvergenceWarning: lbfgs failed to converge (status=1):\n",
      "STOP: TOTAL NO. of ITERATIONS REACHED LIMIT.\n",
      "\n",
      "Increase the number of iterations (max_iter) or scale the data as shown in:\n",
      "    https://scikit-learn.org/stable/modules/preprocessing.html\n",
      "Please also refer to the documentation for alternative solver options:\n",
      "    https://scikit-learn.org/stable/modules/linear_model.html#logistic-regression\n",
      "  n_iter_i = _check_optimize_result(\n",
      "/home/codespace/.python/current/lib/python3.10/site-packages/sklearn/linear_model/_logistic.py:458: ConvergenceWarning: lbfgs failed to converge (status=1):\n",
      "STOP: TOTAL NO. of ITERATIONS REACHED LIMIT.\n",
      "\n",
      "Increase the number of iterations (max_iter) or scale the data as shown in:\n",
      "    https://scikit-learn.org/stable/modules/preprocessing.html\n",
      "Please also refer to the documentation for alternative solver options:\n",
      "    https://scikit-learn.org/stable/modules/linear_model.html#logistic-regression\n",
      "  n_iter_i = _check_optimize_result(\n"
     ]
    },
    {
     "name": "stdout",
     "output_type": "stream",
     "text": [
      "[CV] END classifier__C=10, tfidf__max_features=10000, tfidf__ngram_range=(1, 2); total time=   1.3s\n",
      "[CV] END classifier__C=10, tfidf__max_features=10000, tfidf__ngram_range=(1, 2); total time=   1.3s\n",
      "[CV] END classifier__C=10, tfidf__max_features=10000, tfidf__ngram_range=(1, 2); total time=   1.2s\n",
      "[CV] END classifier__C=10, tfidf__max_features=10000, tfidf__ngram_range=(1, 2); total time=   1.3s\n"
     ]
    },
    {
     "name": "stderr",
     "output_type": "stream",
     "text": [
      "/home/codespace/.python/current/lib/python3.10/site-packages/sklearn/linear_model/_logistic.py:458: ConvergenceWarning: lbfgs failed to converge (status=1):\n",
      "STOP: TOTAL NO. of ITERATIONS REACHED LIMIT.\n",
      "\n",
      "Increase the number of iterations (max_iter) or scale the data as shown in:\n",
      "    https://scikit-learn.org/stable/modules/preprocessing.html\n",
      "Please also refer to the documentation for alternative solver options:\n",
      "    https://scikit-learn.org/stable/modules/linear_model.html#logistic-regression\n",
      "  n_iter_i = _check_optimize_result(\n"
     ]
    },
    {
     "name": "stdout",
     "output_type": "stream",
     "text": [
      "[CV] END classifier__C=10, tfidf__max_features=10000, tfidf__ngram_range=(1, 2); total time=   0.8s\n",
      "Best parameters:  {'classifier__C': 10, 'tfidf__max_features': 5000, 'tfidf__ngram_range': (1, 1)}\n"
     ]
    },
    {
     "name": "stderr",
     "output_type": "stream",
     "text": [
      "/home/codespace/.python/current/lib/python3.10/site-packages/sklearn/linear_model/_logistic.py:458: ConvergenceWarning: lbfgs failed to converge (status=1):\n",
      "STOP: TOTAL NO. of ITERATIONS REACHED LIMIT.\n",
      "\n",
      "Increase the number of iterations (max_iter) or scale the data as shown in:\n",
      "    https://scikit-learn.org/stable/modules/preprocessing.html\n",
      "Please also refer to the documentation for alternative solver options:\n",
      "    https://scikit-learn.org/stable/modules/linear_model.html#logistic-regression\n",
      "  n_iter_i = _check_optimize_result(\n"
     ]
    }
   ],
   "source": [
    "from sklearn.feature_extraction.text import TfidfVectorizer\n",
    "from sklearn.linear_model import LogisticRegression\n",
    "from sklearn.pipeline import Pipeline\n",
    "from sklearn.model_selection import GridSearchCV\n",
    "\n",
    "# TfidfVectorizer의 인스턴스 생성시 파라미터 조정\n",
    "pipeline = Pipeline([\n",
    "    ('tfidf', TfidfVectorizer(stop_words=None, min_df=0.01, max_df=0.95)), # (문서 빈도의 최소값) 및 max_df (문서 빈도의 최대값) 설정하여 단어를 적당히 제외\n",
    "    ('classifier', LogisticRegression()) # 로지스틱 회귀 사용\n",
    "])\n",
    "\n",
    "# 파라미터 그리드 설정\n",
    "param_grid = {\n",
    "    'tfidf__max_features': [5000, 10000],  # 특성의 최대 개수\n",
    "    'tfidf__ngram_range': [(1, 1), (1, 2)],  # 유니그램만 사용하거나 바이그램까지 사용, 텍스트의 문맥을 어디까지로 기준으로 할 지\n",
    "    'classifier__C': [0.1, 1, 10]  # 로지스틱 회귀의 규제 강도로, 숫자가 낮을 수록 높은 규제\n",
    "}\n",
    "\n",
    "# 그리드 서치 설정\n",
    "grid_search = GridSearchCV(pipeline, param_grid, cv=5, verbose=2, n_jobs=-1)\n",
    "\n",
    "# 모델 학습\n",
    "grid_search.fit(X_train, y_train)\n",
    "\n",
    "# 최적의 파라미터 출력\n",
    "print(\"Best parameters: \", grid_search.best_params_)\n",
    "\n",
    "# 테스트 데이터에 대한 예측 수행\n",
    "y_pred = grid_search.predict(X_test)"
   ]
  },
  {
   "cell_type": "markdown",
   "metadata": {},
   "source": [
    "5. **모델 평가**:\n",
    "    - 정확도, 정밀도, 재현율, F1 점수 및 ROC-AUC와 같은 지표를 사용하여 모델 평가.\n",
    "    - 오버피팅과 언더피팅을 논의하고 이를 해결하는 방법 학습."
   ]
  },
  {
   "cell_type": "code",
   "execution_count": 19,
   "metadata": {
    "metadata": {}
   },
   "outputs": [
    {
     "name": "stdout",
     "output_type": "stream",
     "text": [
      "          Accuracy  Precision   Recall  F1 Score  ROC-AUC\n",
      "Training  0.829000   0.857701 0.856028  0.856864 0.906620\n",
      "    Test  0.799333   0.827800 0.832484  0.830135 0.875451\n"
     ]
    }
   ],
   "source": [
    "from sklearn.metrics import roc_auc_score\n",
    "\n",
    "# 예측 수행\n",
    "y_train_pred = grid_search.predict(X_train)\n",
    "y_test_pred_probs = grid_search.predict_proba(X_test)[:, 1]  # 클래스 1에 대한 확률을 얻습니다.\n",
    "\n",
    "# ROC-AUC 점수 계산\n",
    "roc_auc_train = roc_auc_score(y_train, grid_search.predict_proba(X_train)[:, 1])  # 훈련 데이터의 ROC-AUC\n",
    "roc_auc_test = roc_auc_score(y_test, y_test_pred_probs)  # 테스트 데이터의 ROC-AUC\n",
    "\n",
    "# 성능 지표 계산\n",
    "performance_data = {\n",
    "    '': ['Training', 'Test'],\n",
    "    'Accuracy': [accuracy_score(y_train, y_train_pred), accuracy_score(y_test, y_pred)],\n",
    "    'Precision': [precision_score(y_train, y_train_pred), precision_score(y_test, y_pred)],\n",
    "    'Recall': [recall_score(y_train, y_train_pred), recall_score(y_test, y_pred)],\n",
    "    'F1 Score': [f1_score(y_train, y_train_pred), f1_score(y_test, y_pred)],\n",
    "    'ROC-AUC': [roc_auc_train, roc_auc_test]  # ROC-AUC 점수 추가\n",
    "}\n",
    "\n",
    "# 성능 데이터를 DataFrame으로 변환\n",
    "performance_df = pd.DataFrame(performance_data)\n",
    "\n",
    "# 표 출력\n",
    "print(performance_df.to_string(index=False))\n"
   ]
  },
  {
   "cell_type": "markdown",
   "metadata": {},
   "source": [
    "### 모델 성능 요약\n",
    "\n",
    "다음 표는 훈련 데이터와 테스트 데이터에 대한 모델의 성능을 보여줍니다:\n",
    "\n",
    "| 데이터 유형  | 정확도 (Accuracy) | 정밀도 (Precision) | 재현율 (Recall) | F1 점수 (F1 Score) | ROC-AUC |\n",
    "|--------------|-------------------|-------------------|----------------|-------------------|---------|\n",
    "| **Training** | 0.8394            | 0.8673            | 0.8628         | 0.8650            | 0.9134  |\n",
    "| **Test**     | 0.8123            | 0.8464            | 0.8431         | 0.8447            | 0.8857  |\n"
   ]
  },
  {
   "cell_type": "markdown",
   "metadata": {},
   "source": [
    "### 성능 평가  \n",
    "- **일관성 있는 성능**: 모델은 훈련 데이터와 테스트 데이터 모두에서 일관되게 높은 정확도와 ROC-AUC 점수를 보여줍니다. 이는 모델이 일반화를 잘 하고 있음을 나타냅니다.  \n",
    "\n",
    "- **정밀도와 재현율**: 테스트 데이터에 대한 정밀도와 재현율이 각각 **0.8464**와 **0.8431**로 비슷한 수준입니다. 이는 모델이 양성 클래스를 잘 식별하고 있으며, 오진단(정밀도)과 누락진단(재현율) 사이에 균형을 잘 맞추고 있음을 의미합니다.  \n",
    "\n",
    "### 오버피팅 및 언더피팅\n",
    "- **오버피팅 감지**: 훈련 데이터에 대한 정확도가 테스트 데이터보다 약간 높은 0.8394 대 0.8123으로 관찰됩니다. 이는 오버피팅의 가능성을 암시할 수 있으나, 차이가 크지 않기 때문에 큰 문제는 아닌 것으로 보입니다.  \n",
    "\n",
    "- **F1 점수와 ROC-AUC**: F1 점수와 ROC-AUC 모두 높은 값을 유지하고 있으며, 특히 ROC-AUC 점수가 훈련 데이터에서 0.9134, 테스트 데이터에서 0.8857로 나타나 모델이 우수한 예측 성능을 가지고 있음을 보여줍니다."
   ]
  },
  {
   "cell_type": "markdown",
   "metadata": {},
   "source": [
    "### 6. **시각화 및 보고**:\n",
    "- Matplotlib 또는 Seaborn과 같은 라이브러리를 사용하여 결과 시각화.\n",
    "- 혼동 행렬 및 ROC 곡선 생성.\n",
    "- 보고서에 결과 요약.    "
   ]
  },
  {
   "cell_type": "code",
   "execution_count": 20,
   "metadata": {
    "metadata": {}
   },
   "outputs": [
    {
     "data": {
      "image/png": "[encoded data removed]",
      "text/plain": [
       "<Figure size 640x480 with 2 Axes>"
      ]
     },
     "metadata": {},
     "output_type": "display_data"
    }
   ],
   "source": [
    "# 혼동 행렬 출력\n",
    "cm = confusion_matrix(y_test, y_pred)\n",
    "ConfusionMatrixDisplay(cm).plot()\n",
    "plt.show()"
   ]
  },
  {
   "cell_type": "markdown",
   "metadata": {},
   "source": [
    "### **혼동 행렬 해석**:\n",
    "- **TN (927)**: 모델이 부정적 감정으로 예측했고 실제 값도 부정적 감정인 경우입니다. 이는 모델이 '부정 클래스'(Negative Class)를 올바르게 식별한 경우입니다.\n",
    "- **FP (306)**: 모델이 긍정적 감정으로 예측했으나 실제 값은 부정적 감정인 경우입니다. 이는 '1종 오류'로, 모델이 부정적 감정을 긍정적으로 잘못 판단한 경우입니다.\n",
    "- **FN (296)**: 모델이 부정적 감정으로 예측했으나 실제 값은 긍정적 감정인 경우입니다. 이는 '2종 오류'로, 모델이 긍정적 감정을 부정적으로 잘못 판단한 경우입니다.\n",
    "- **TP (1471)**: 모델이 긍정적 감정으로 예측했고 실제 값도 긍정적 감정인 경우입니다. 이는 모델이 '긍정 클래스'(Positive Class)를 올바르게 식별한 경우입니다.\n",
    "\n",
    "\n",
    "### **성능의 시각적 해석**:\n",
    "- 이 혼동 행렬을 통해 볼 때, 모델은 긍정적 감정을 식별하는 데 있어 상당히 효과적입니다(True Positive가 높음).\n",
    "-  그러나 여전히 상당수의 부정적 감정을 긍정적 감정으로 잘못 분류하고 있음(False Positive)을 볼 수 있습니다. \n",
    "- 이는 모델이 특정 조건이나 특성에서 오류를 범할 수 있음을 암시합니다. \n",
    "- False Negative의 수치 또한 상대적으로 낮지만, 이를 줄이는 것도 중요하므로 모델의 센서티비티(민감도)를 향상시키는 전략을 고려해야 할 수 있습니다.\n",
    "\n",
    "#### 종합하면, 모델은 전반적으로 긍정적 사례에 대한 예측에 강점을 보이지만, 일부 부정적 사례에 대해서는 오류를 범할 가능성이 있으므로 추가적인 조정과 분석이 필요합니다. 이러한 결과는 모델이 직면할 수 있는 편향이나 한계를 이해하는 데 도움이 됩니다."
   ]
  },
  {
   "cell_type": "code",
   "execution_count": 21,
   "metadata": {
    "metadata": {}
   },
   "outputs": [
    {
     "data": {
      "image/png": "[encoded data removed]",
      "text/plain": [
       "<Figure size 640x480 with 1 Axes>"
      ]
     },
     "metadata": {},
     "output_type": "display_data"
    }
   ],
   "source": [
    "# ROC 곡선 계산\n",
    "fpr, tpr, thresholds = roc_curve(y_test, grid_search.predict_proba(X_test)[:, 1])\n",
    "roc_auc = auc(fpr, tpr)\n",
    "\n",
    "# ROC 곡선 시각화\n",
    "plt.figure()\n",
    "plt.plot(fpr, tpr, color='darkorange', lw=2, label='ROC curve (area = %0.2f)' % roc_auc)\n",
    "plt.plot([0, 1], [0, 1], color='navy', lw=2, linestyle='--')\n",
    "plt.xlim([0.0, 1.0])\n",
    "plt.ylim([0.0, 1.05])\n",
    "plt.xlabel('False Positive Rate')\n",
    "plt.ylabel('True Positive Rate')\n",
    "plt.title('Receiver Operating Characteristic')\n",
    "plt.legend(loc=\"lower right\")\n",
    "plt.show()\n"
   ]
  },
  {
   "cell_type": "markdown",
   "metadata": {},
   "source": [
    "### ROC 곡선 해석:\n",
    "- **곡선 형태**: ROC 곡선은 왼쪽 상단 모서리를 향해 굽어 있습니다. 이는 모델이 임의 추측보다 훨씬 나은 성능을 보이고 있음을 의미합니다. 곡선이 왼쪽 상단 모서리에 가까울수록 모델의 성능이 뛰어납니다.\n",
    "\n",
    "- **AUC (Area Under the Curve) 값**: AUC 값은 0.88로, 이는 모델이 88%의 확률로 무작위로 선택된 양성 샘플을 무작위로 선택된 음성 샘플보다 높은 점수를 할당할 것임을 의미합니다. AUC 값이 0.5는 무작위 추측의 성능을, 1.0은 완벽한 분류기의 성능을 나타냅니다.\n",
    "\n",
    "- **성능 지표**: AUC 값이 0.88은 모델이 매우 유용하다는 것을 나타내며, 특히 의료 진단이나 이진 분류가 중요한 다른 영역에서 매우 유용할 수 있습니다.\n",
    "\n",
    "### 모델의 잠재적 개선:\n",
    "\n",
    "- **특정 영역의 개선**: 곡선이 대각선에서 멀어지는 특정 영역을 식별하여, 이 부분에서 모델이 왜 더 나은 성능을 보이지 못하는지 분석할 수 있습니다. 예를 들어, 특정 환자 집단이나 특정 조건에서 데이터를 추가로 수집하거나, 모델 학습에 더 적합한 특징을 개발할 수 있습니다.\n",
    "이 ROC 곡선은 모델이 전반적으로 우수한 성능을 보이고 있으며, 특히 예측의 신뢰도가 높음을 나타냅니다."
   ]
  },
  {
   "cell_type": "markdown",
   "metadata": {},
   "source": [
    "## 마치며..\n",
    "\n",
    "\n",
    "- 모델은 전반적으로 우수한 성능을 나타내며, 특히 긍정적인 케이스의 예측에 강점을 보입니다. 그러나, 오진단률(FP)을 낮추기 위한 추가 조정이 필요할 수 있으며, 모델이 오류를 범하는 특정 상황이나 조건을 더 잘 이해하기 위한 분석이 요구됩니다. 또한, FN을 줄이기 위한 전략을 개발하여 모델의 민감도를 높이는 것도 고려해 볼 수 있습니다.\n",
    "\n",
    "- 종합적으로, 이 모델은 높은 ROC-AUC 점수와 함께 긍정적 결과를 식별하는 데 강한 능력을 보여 주었으며, 실제 활용 시 유의미한 성능을 발휘할 수 있을 것으로 기대됩니다. 그러나 이는 실제 데이터가 아닌 데이터 증강으로 인해 도출된 결과이기 때문에 이에 유의해야 합니다.\n",
    "\n",
    "- **reviews.getPurchase** 와 **reviews.numHelpful**을 통해 결제를 하거나 도움이 되었다는 리뷰는 가중치를 더하거나 데이터 증강(Data Augmentation)을 통해 학습을 진행하고 싶었는데 그러지 못했던 점이 아쉬웠습니다."
   ]
  },
  {
   "cell_type": "markdown",
   "metadata": {},
   "source": [
    "위 프로그램은 **ChatGPT**의 도움을 받아 작성하였습니다."
   ]
  }
 ],
 "metadata": {
  "kernelspec": {
   "display_name": "Python 3",
   "language": "python",
   "name": "python3"
  },
  "language_info": {
   "codemirror_mode": {
    "name": "ipython",
    "version": 3
   },
   "file_extension": ".py",
   "mimetype": "text/x-python",
   "name": "python",
   "nbconvert_exporter": "python",
   "pygments_lexer": "ipython3",
   "version": "3.10.13"
  }
 },
 "nbformat": 4,
 "nbformat_minor": 2
}
